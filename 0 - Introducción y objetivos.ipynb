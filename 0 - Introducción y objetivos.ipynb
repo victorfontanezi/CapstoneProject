{
 "cells": [
  {
   "cell_type": "markdown",
   "metadata": {},
   "source": [
    "# Introducción y objetivos\n",
    "\n",
    "En este documento se detallará el propósito y objetivos del *Capstone Project* presentado por los alumnos del Posgrado de Data Science y Big Data de Ángel Villarroya, Victor Fontanezi y Adam Boulaich con fecha Junio 2021.\n",
    "\n",
    "## Introducción\n",
    "\n",
    "Durante el curso se han estudiado las metodologías y herramientas necesarias para evaluar, analizar, modelizar y representar un conjunto de datos con la finalidad de añadir valor a la información disponible además de poder responder a preguntas e hipótesis que nos podamos formular.\n",
    "\n",
    "La idea de este trabajo es integrar los conceptos y herramientas aprendidas durante el año con la finalidad de estudiar el impacto del COVID-19 en el turismo, más particularmente, en el tráfico comercial aéreo de España.\n",
    "\n",
    "Para ello, se han seguido las fases habituales en el estudio de datos:\n",
    "\n",
    "1. Data Acquisition: Se utiliza como input los datos de vuelos producidos a nivel mundial entre Enero de 2019 y Abril de 2021, obtenidos a partir de la página web Open Sky Network.\n",
    "\n",
    "2. Data Analysis: Se tratan los datos para poder analizar y obtener resultados de manera fiel y correcta.\n",
    "\n",
    "3. Presentation: Se visualizan los resultados obtenidos mediante Python y Tableau.\n",
    "\n",
    "Cabe destacar que todo el trabajo se ha realizado utilizando código Python a excepción de una parte de la visualización que se ha realizado mediante Tableau. Asimismo, la información tomada como input se ha enriquecido mediante varios data sets detallados en los siguientes *notebooks*.\n",
    "\n",
    "## Objetivos\n",
    "\n",
    "El principal objetivo de este trabajo, además de poner en práctica los conocimientos adquiridos durante el curso,  es dar respuesta a las siguientes preguntas:\n",
    "\n",
    "1. ¿Cómo ha impactado el virus del COVID-19 en el tráfico aéreo español?\n",
    "\n",
    "2. ¿Ha impactado por igual a las rutas exteriores?\n",
    "\n",
    "3. ¿Cuál ha sido el comportamiento de los vuelos domésticos?\n",
    "\n",
    "En los siguientes *notebooks* se detalla toda la metodología realizada hasta poder dar respuesta a estas cuestiones."
   ]
  }
 ],
 "metadata": {
  "kernelspec": {
   "display_name": "Python 3",
   "language": "python",
   "name": "python3"
  },
  "language_info": {
   "codemirror_mode": {
    "name": "ipython",
    "version": 3
   },
   "file_extension": ".py",
   "mimetype": "text/x-python",
   "name": "python",
   "nbconvert_exporter": "python",
   "pygments_lexer": "ipython3",
   "version": "3.8.3"
  }
 },
 "nbformat": 4,
 "nbformat_minor": 4
}
